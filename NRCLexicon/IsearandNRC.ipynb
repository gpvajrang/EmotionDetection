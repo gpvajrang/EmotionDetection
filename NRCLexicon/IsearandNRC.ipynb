{
 "cells": [
  {
   "cell_type": "markdown",
   "metadata": {},
   "source": [
    "# ISEAR and NRC Labels"
   ]
  },
  {
   "cell_type": "code",
   "execution_count": 1,
   "metadata": {},
   "outputs": [],
   "source": [
    "import pandas as pd\n",
    "import numpy as np\n",
    "from tqdm import tqdm\n",
    "import spacy\n",
    "import re"
   ]
  },
  {
   "cell_type": "code",
   "execution_count": 2,
   "metadata": {},
   "outputs": [],
   "source": [
    "# from py_isear import \n",
    "from py_isear.isear_loader import IsearLoader\n",
    "attributes = ['EMOT','SIT']\n",
    "target = ['TROPHO','TEMPER']\n",
    "loader = IsearLoader(attributes, target, True)\n",
    "data = loader.load_isear('py_isear/isear.csv')\n",
    "# data.get_data() # returns attributes\n",
    "# data.get_target() # returns target\n",
    "# data.get_freetext_content() # returns the text content of the database"
   ]
  },
  {
   "cell_type": "code",
   "execution_count": 3,
   "metadata": {},
   "outputs": [],
   "source": [
    "# turn attributes to list\n",
    "attributes = data.get_data()\n",
    "attributes = sum(attributes,[])\n",
    "# attributes"
   ]
  },
  {
   "cell_type": "code",
   "execution_count": 4,
   "metadata": {},
   "outputs": [],
   "source": [
    "isear_text = list(data.get_freetext_content())\n",
    "# isear_text"
   ]
  },
  {
   "cell_type": "code",
   "execution_count": 5,
   "metadata": {},
   "outputs": [],
   "source": [
    "# create df from attribute and the data;\n",
    "df = pd.DataFrame({'isear_text':isear_text,'isear_label':attributes})"
   ]
  },
  {
   "cell_type": "code",
   "execution_count": 6,
   "metadata": {},
   "outputs": [],
   "source": [
    "df = df.set_index('isear_text')"
   ]
  },
  {
   "cell_type": "code",
   "execution_count": 7,
   "metadata": {},
   "outputs": [],
   "source": [
    "d = {1:'joy',2:'fear',3:'anger',4:'sadness',5:'disgust',6:'shame',7:'guilt'}"
   ]
  },
  {
   "cell_type": "code",
   "execution_count": 8,
   "metadata": {},
   "outputs": [],
   "source": [
    "df = df.replace({\"isear_label\": d})"
   ]
  },
  {
   "cell_type": "code",
   "execution_count": 9,
   "metadata": {},
   "outputs": [
    {
     "data": {
      "text/html": [
       "<div>\n",
       "<style scoped>\n",
       "    .dataframe tbody tr th:only-of-type {\n",
       "        vertical-align: middle;\n",
       "    }\n",
       "\n",
       "    .dataframe tbody tr th {\n",
       "        vertical-align: top;\n",
       "    }\n",
       "\n",
       "    .dataframe thead th {\n",
       "        text-align: right;\n",
       "    }\n",
       "</style>\n",
       "<table border=\"1\" class=\"dataframe\">\n",
       "  <thead>\n",
       "    <tr style=\"text-align: right;\">\n",
       "      <th></th>\n",
       "      <th>isear_label</th>\n",
       "    </tr>\n",
       "    <tr>\n",
       "      <th>isear_text</th>\n",
       "      <th></th>\n",
       "    </tr>\n",
       "  </thead>\n",
       "  <tbody>\n",
       "    <tr>\n",
       "      <th>During the period of falling in love, each time that we met and á especially when we had not met for a long time.</th>\n",
       "      <td>joy</td>\n",
       "    </tr>\n",
       "    <tr>\n",
       "      <th>When I was involved in a traffic accident.</th>\n",
       "      <td>fear</td>\n",
       "    </tr>\n",
       "    <tr>\n",
       "      <th>When I was driving home after  several days of hard work, there á was a motorist ahead of me who was driving at 50 km/hour and á refused, despite his low speeed to let me overtake.</th>\n",
       "      <td>anger</td>\n",
       "    </tr>\n",
       "    <tr>\n",
       "      <th>When I lost the person who meant the most to me.</th>\n",
       "      <td>sadness</td>\n",
       "    </tr>\n",
       "    <tr>\n",
       "      <th>The time I knocked a deer down - the sight of the animal's á injuries and helplessness.  The realization that the animal was á so badly hurt that it had to be put down, and when the animal á screamed at the moment of death.</th>\n",
       "      <td>disgust</td>\n",
       "    </tr>\n",
       "  </tbody>\n",
       "</table>\n",
       "</div>"
      ],
      "text/plain": [
       "                                                   isear_label\n",
       "isear_text                                                    \n",
       "During the period of falling in love, each time...         joy\n",
       "When I was involved in a traffic accident.                fear\n",
       "When I was driving home after  several days of ...       anger\n",
       "When I lost the person who meant the most to me.       sadness\n",
       "The time I knocked a deer down - the sight of t...     disgust"
      ]
     },
     "execution_count": 9,
     "metadata": {},
     "output_type": "execute_result"
    }
   ],
   "source": [
    "df.head()"
   ]
  },
  {
   "cell_type": "code",
   "execution_count": 10,
   "metadata": {},
   "outputs": [],
   "source": [
    "import pandas as pd\n",
    "from nltk import word_tokenize\n",
    "\n",
    "filepath = ('NRC-Emotion-Lexicon-Wordlevel-v0.92.txt')\n",
    "\n",
    "emolex_df = pd.read_csv(filepath,\n",
    "                            names=[\"word\", \"emotion\", \"association\"],\n",
    "                            sep='\\t')\n",
    "\n",
    "\n",
    "emolex_words = emolex_df.pivot(index='word',\n",
    "                                   columns='emotion',\n",
    "                                   values='association').reset_index()\n",
    "\n",
    "# emolex_df = emolex_df.drop('positive','negative')\n",
    "\n",
    "emolex_words = emolex_words.drop(['positive','negative'],axis=1)\n",
    "emotions = emolex_words.columns.drop('word')\n",
    "emo_df = pd.DataFrame(0, index=df.index, columns=emotions)"
   ]
  },
  {
   "cell_type": "code",
   "execution_count": 11,
   "metadata": {},
   "outputs": [
    {
     "data": {
      "text/html": [
       "<div>\n",
       "<style scoped>\n",
       "    .dataframe tbody tr th:only-of-type {\n",
       "        vertical-align: middle;\n",
       "    }\n",
       "\n",
       "    .dataframe tbody tr th {\n",
       "        vertical-align: top;\n",
       "    }\n",
       "\n",
       "    .dataframe thead th {\n",
       "        text-align: right;\n",
       "    }\n",
       "</style>\n",
       "<table border=\"1\" class=\"dataframe\">\n",
       "  <thead>\n",
       "    <tr style=\"text-align: right;\">\n",
       "      <th>emotion</th>\n",
       "      <th>anger</th>\n",
       "      <th>anticipation</th>\n",
       "      <th>disgust</th>\n",
       "      <th>fear</th>\n",
       "      <th>joy</th>\n",
       "      <th>sadness</th>\n",
       "      <th>surprise</th>\n",
       "      <th>trust</th>\n",
       "    </tr>\n",
       "    <tr>\n",
       "      <th>isear_text</th>\n",
       "      <th></th>\n",
       "      <th></th>\n",
       "      <th></th>\n",
       "      <th></th>\n",
       "      <th></th>\n",
       "      <th></th>\n",
       "      <th></th>\n",
       "      <th></th>\n",
       "    </tr>\n",
       "  </thead>\n",
       "  <tbody>\n",
       "    <tr>\n",
       "      <th>During the period of falling in love, each time that we met and á especially when we had not met for a long time.</th>\n",
       "      <td>0</td>\n",
       "      <td>0</td>\n",
       "      <td>0</td>\n",
       "      <td>0</td>\n",
       "      <td>0</td>\n",
       "      <td>0</td>\n",
       "      <td>0</td>\n",
       "      <td>0</td>\n",
       "    </tr>\n",
       "    <tr>\n",
       "      <th>When I was involved in a traffic accident.</th>\n",
       "      <td>0</td>\n",
       "      <td>0</td>\n",
       "      <td>0</td>\n",
       "      <td>0</td>\n",
       "      <td>0</td>\n",
       "      <td>0</td>\n",
       "      <td>0</td>\n",
       "      <td>0</td>\n",
       "    </tr>\n",
       "    <tr>\n",
       "      <th>When I was driving home after  several days of hard work, there á was a motorist ahead of me who was driving at 50 km/hour and á refused, despite his low speeed to let me overtake.</th>\n",
       "      <td>0</td>\n",
       "      <td>0</td>\n",
       "      <td>0</td>\n",
       "      <td>0</td>\n",
       "      <td>0</td>\n",
       "      <td>0</td>\n",
       "      <td>0</td>\n",
       "      <td>0</td>\n",
       "    </tr>\n",
       "    <tr>\n",
       "      <th>When I lost the person who meant the most to me.</th>\n",
       "      <td>0</td>\n",
       "      <td>0</td>\n",
       "      <td>0</td>\n",
       "      <td>0</td>\n",
       "      <td>0</td>\n",
       "      <td>0</td>\n",
       "      <td>0</td>\n",
       "      <td>0</td>\n",
       "    </tr>\n",
       "    <tr>\n",
       "      <th>The time I knocked a deer down - the sight of the animal's á injuries and helplessness.  The realization that the animal was á so badly hurt that it had to be put down, and when the animal á screamed at the moment of death.</th>\n",
       "      <td>0</td>\n",
       "      <td>0</td>\n",
       "      <td>0</td>\n",
       "      <td>0</td>\n",
       "      <td>0</td>\n",
       "      <td>0</td>\n",
       "      <td>0</td>\n",
       "      <td>0</td>\n",
       "    </tr>\n",
       "    <tr>\n",
       "      <th>...</th>\n",
       "      <td>...</td>\n",
       "      <td>...</td>\n",
       "      <td>...</td>\n",
       "      <td>...</td>\n",
       "      <td>...</td>\n",
       "      <td>...</td>\n",
       "      <td>...</td>\n",
       "      <td>...</td>\n",
       "    </tr>\n",
       "    <tr>\n",
       "      <th>Two years back someone invited me to be the tutor of her á grand-daughter.  The grand-daughter asked me some questions in á mathematics so I taught her.  However she did not listen to me á and this made me feel unhappy.  The second year it was the same.  á When I entered university the girl's parents suggested that I be á employed as their daghters tutor.  They told me that at university  á there was no homework and I would have a lot of time so they á made a time-table  for me which required me to be the tutor five á days a week.  They did not respect me and anyway I had another á child to teach.</th>\n",
       "      <td>0</td>\n",
       "      <td>0</td>\n",
       "      <td>0</td>\n",
       "      <td>0</td>\n",
       "      <td>0</td>\n",
       "      <td>0</td>\n",
       "      <td>0</td>\n",
       "      <td>0</td>\n",
       "    </tr>\n",
       "    <tr>\n",
       "      <th>I had taken the responsibility to do something and I had á prepared for it.  However I failed because of my timidity.  After á three attempts I still could not adapt to the atmosphere and á failed as before.  I felt imcompetent and felt that the others á would think that I had not prepared for it.</th>\n",
       "      <td>0</td>\n",
       "      <td>0</td>\n",
       "      <td>0</td>\n",
       "      <td>0</td>\n",
       "      <td>0</td>\n",
       "      <td>0</td>\n",
       "      <td>0</td>\n",
       "      <td>0</td>\n",
       "    </tr>\n",
       "    <tr>\n",
       "      <th>I was at home and I heard a loud sound of spitting outside the á door.  I thought that one of my family members would step on the spit á and bring the germs in the house.</th>\n",
       "      <td>0</td>\n",
       "      <td>0</td>\n",
       "      <td>0</td>\n",
       "      <td>0</td>\n",
       "      <td>0</td>\n",
       "      <td>0</td>\n",
       "      <td>0</td>\n",
       "      <td>0</td>\n",
       "    </tr>\n",
       "    <tr>\n",
       "      <th>I did not do the homework that the teacher had asked us to do.  I á was scolded immediately.</th>\n",
       "      <td>0</td>\n",
       "      <td>0</td>\n",
       "      <td>0</td>\n",
       "      <td>0</td>\n",
       "      <td>0</td>\n",
       "      <td>0</td>\n",
       "      <td>0</td>\n",
       "      <td>0</td>\n",
       "    </tr>\n",
       "    <tr>\n",
       "      <th>I had shouted at my younger brother and he was always afraid when á I called out loudly.</th>\n",
       "      <td>0</td>\n",
       "      <td>0</td>\n",
       "      <td>0</td>\n",
       "      <td>0</td>\n",
       "      <td>0</td>\n",
       "      <td>0</td>\n",
       "      <td>0</td>\n",
       "      <td>0</td>\n",
       "    </tr>\n",
       "  </tbody>\n",
       "</table>\n",
       "<p>7666 rows × 8 columns</p>\n",
       "</div>"
      ],
      "text/plain": [
       "emotion                                             anger  anticipation  \\\n",
       "isear_text                                                                \n",
       "During the period of falling in love, each time...      0             0   \n",
       "When I was involved in a traffic accident.              0             0   \n",
       "When I was driving home after  several days of ...      0             0   \n",
       "When I lost the person who meant the most to me.        0             0   \n",
       "The time I knocked a deer down - the sight of t...      0             0   \n",
       "...                                                   ...           ...   \n",
       "Two years back someone invited me to be the tut...      0             0   \n",
       "I had taken the responsibility to do something ...      0             0   \n",
       "I was at home and I heard a loud sound of spitt...      0             0   \n",
       "I did not do the homework that the teacher had ...      0             0   \n",
       "I had shouted at my younger brother and he was ...      0             0   \n",
       "\n",
       "emotion                                             disgust  fear  joy  \\\n",
       "isear_text                                                               \n",
       "During the period of falling in love, each time...        0     0    0   \n",
       "When I was involved in a traffic accident.                0     0    0   \n",
       "When I was driving home after  several days of ...        0     0    0   \n",
       "When I lost the person who meant the most to me.          0     0    0   \n",
       "The time I knocked a deer down - the sight of t...        0     0    0   \n",
       "...                                                     ...   ...  ...   \n",
       "Two years back someone invited me to be the tut...        0     0    0   \n",
       "I had taken the responsibility to do something ...        0     0    0   \n",
       "I was at home and I heard a loud sound of spitt...        0     0    0   \n",
       "I did not do the homework that the teacher had ...        0     0    0   \n",
       "I had shouted at my younger brother and he was ...        0     0    0   \n",
       "\n",
       "emotion                                             sadness  surprise  trust  \n",
       "isear_text                                                                    \n",
       "During the period of falling in love, each time...        0         0      0  \n",
       "When I was involved in a traffic accident.                0         0      0  \n",
       "When I was driving home after  several days of ...        0         0      0  \n",
       "When I lost the person who meant the most to me.          0         0      0  \n",
       "The time I knocked a deer down - the sight of t...        0         0      0  \n",
       "...                                                     ...       ...    ...  \n",
       "Two years back someone invited me to be the tut...        0         0      0  \n",
       "I had taken the responsibility to do something ...        0         0      0  \n",
       "I was at home and I heard a loud sound of spitt...        0         0      0  \n",
       "I did not do the homework that the teacher had ...        0         0      0  \n",
       "I had shouted at my younger brother and he was ...        0         0      0  \n",
       "\n",
       "[7666 rows x 8 columns]"
      ]
     },
     "execution_count": 11,
     "metadata": {},
     "output_type": "execute_result"
    }
   ],
   "source": [
    "emo_df"
   ]
  },
  {
   "cell_type": "code",
   "execution_count": 12,
   "metadata": {},
   "outputs": [],
   "source": [
    "# count whether a token appears in the index and then count \n",
    "# must remove stopwords and tokenize the isear_text\n",
    "\n",
    "# reference to nltk\n",
    "\n",
    "# remove puncutations\n",
    "# tokenize\n",
    "# remove stopwords\n",
    "import spacy\n",
    "\n",
    "\n",
    "def isear_nrc_loop():\n",
    "    new_df = df.copy()\n",
    "    emo_df2 = emo_df.copy()\n",
    "    nlp = spacy.load(\"en_core_web_lg\")\n",
    "    for i, row in new_df.iterrows():\n",
    "        doc = nlp(i)\n",
    "        document = [token.text for token in doc if token.is_stop != True and token.is_punct != True]\n",
    "        for word in document:\n",
    "            emo_score = emolex_words[emolex_words.word == word]\n",
    "            if not emo_score.empty:\n",
    "                for emotion in list(emotions):\n",
    "                    emo_df2.at[i, emotion] += emo_score[emotion].values # add the score under the emotion cat\n",
    "    nrc_label_df = emo_df2.idxmax(axis=1).to_frame('nrc_label')\n",
    "    final = pd.concat([new_df, nrc_label_df], axis=1)\n",
    "    return final"
   ]
  },
  {
   "cell_type": "code",
   "execution_count": 13,
   "metadata": {},
   "outputs": [
    {
     "data": {
      "text/html": [
       "<div>\n",
       "<style scoped>\n",
       "    .dataframe tbody tr th:only-of-type {\n",
       "        vertical-align: middle;\n",
       "    }\n",
       "\n",
       "    .dataframe tbody tr th {\n",
       "        vertical-align: top;\n",
       "    }\n",
       "\n",
       "    .dataframe thead th {\n",
       "        text-align: right;\n",
       "    }\n",
       "</style>\n",
       "<table border=\"1\" class=\"dataframe\">\n",
       "  <thead>\n",
       "    <tr style=\"text-align: right;\">\n",
       "      <th></th>\n",
       "      <th>isear_label</th>\n",
       "      <th>nrc_label</th>\n",
       "    </tr>\n",
       "    <tr>\n",
       "      <th>isear_text</th>\n",
       "      <th></th>\n",
       "      <th></th>\n",
       "    </tr>\n",
       "  </thead>\n",
       "  <tbody>\n",
       "    <tr>\n",
       "      <th>During the period of falling in love, each time that we met and á especially when we had not met for a long time.</th>\n",
       "      <td>joy</td>\n",
       "      <td>anticipation</td>\n",
       "    </tr>\n",
       "    <tr>\n",
       "      <th>When I was involved in a traffic accident.</th>\n",
       "      <td>fear</td>\n",
       "      <td>fear</td>\n",
       "    </tr>\n",
       "    <tr>\n",
       "      <th>When I was driving home after  several days of hard work, there á was a motorist ahead of me who was driving at 50 km/hour and á refused, despite his low speeed to let me overtake.</th>\n",
       "      <td>anger</td>\n",
       "      <td>sadness</td>\n",
       "    </tr>\n",
       "    <tr>\n",
       "      <th>When I lost the person who meant the most to me.</th>\n",
       "      <td>sadness</td>\n",
       "      <td>sadness</td>\n",
       "    </tr>\n",
       "    <tr>\n",
       "      <th>The time I knocked a deer down - the sight of the animal's á injuries and helplessness.  The realization that the animal was á so badly hurt that it had to be put down, and when the animal á screamed at the moment of death.</th>\n",
       "      <td>disgust</td>\n",
       "      <td>sadness</td>\n",
       "    </tr>\n",
       "  </tbody>\n",
       "</table>\n",
       "</div>"
      ],
      "text/plain": [
       "                                                   isear_label     nrc_label\n",
       "isear_text                                                                  \n",
       "During the period of falling in love, each time...         joy  anticipation\n",
       "When I was involved in a traffic accident.                fear          fear\n",
       "When I was driving home after  several days of ...       anger       sadness\n",
       "When I lost the person who meant the most to me.       sadness       sadness\n",
       "The time I knocked a deer down - the sight of t...     disgust       sadness"
      ]
     },
     "execution_count": 13,
     "metadata": {},
     "output_type": "execute_result"
    }
   ],
   "source": [
    "output = isear_nrc_loop()\n",
    "output.head()"
   ]
  },
  {
   "cell_type": "code",
   "execution_count": 14,
   "metadata": {},
   "outputs": [
    {
     "data": {
      "text/plain": [
       "(7666, 2)"
      ]
     },
     "execution_count": 14,
     "metadata": {},
     "output_type": "execute_result"
    }
   ],
   "source": [
    "output.shape"
   ]
  },
  {
   "cell_type": "markdown",
   "metadata": {},
   "source": [
    "# Find the F-1 Scores -- NRC and DM"
   ]
  },
  {
   "cell_type": "markdown",
   "metadata": {},
   "source": [
    "## sadness"
   ]
  },
  {
   "cell_type": "code",
   "execution_count": 41,
   "metadata": {},
   "outputs": [],
   "source": [
    "# the case of sad:"
   ]
  },
  {
   "cell_type": "code",
   "execution_count": 42,
   "metadata": {},
   "outputs": [],
   "source": [
    "# true positives\n",
    "tp = final_master2.loc[(final_master2['isear_label'] == \"sadness\") & (final_master2['nrc_label'] == \"sadness\")].shape[0]\n",
    "# false positives\n",
    "fp = final_master2.loc[(final_master2['isear_label'] != \"sadness\") & (final_master2['nrc_label'] == \"sadness\")].shape[0]\n",
    "# true negatives\n",
    "tn = final_master2.loc[(final_master2['isear_label'] != \"sadness\") & (final_master2['nrc_label'] != \"sadness\")].shape[0]\n",
    "# false negatives\n",
    "fn = final_master2.loc[(final_master2['isear_label'] == \"sadness\") & (final_master2['nrc_label'] != \"sadness\")].shape[0]"
   ]
  },
  {
   "cell_type": "code",
   "execution_count": 43,
   "metadata": {},
   "outputs": [
    {
     "data": {
      "text/plain": [
       "{'precision': 0.21006944444444445,\n",
       " 'recall': 0.1104014598540146,\n",
       " 'f1_score': 0.14473684210526316}"
      ]
     },
     "execution_count": 43,
     "metadata": {},
     "output_type": "execute_result"
    }
   ],
   "source": [
    "# precision, accuracy, recall \n",
    "\n",
    "def performance():\n",
    "    nrc_pf_sad = {}\n",
    "    nrc_pf_sad['precision'] = tp/(tp+fp)\n",
    "    nrc_pf_sad['recall'] = tp/(tp+fn)\n",
    "    nrc_pf_sad['f1_score'] = 2*(nrc_pf_sad['precision']*nrc_pf_sad['recall'])/(nrc_pf_sad['precision']+nrc_pf_sad['recall'])\n",
    "    return nrc_pf_sad\n",
    "\n",
    "nrc_pf_sad = performance()\n",
    "nrc_pf_sad"
   ]
  },
  {
   "cell_type": "code",
   "execution_count": 44,
   "metadata": {},
   "outputs": [],
   "source": [
    "# true positives\n",
    "tp = final_master2.loc[(final_master2['isear_label'] == \"sadness\") & (final_master2['dm_label'] == \"sadness\")].shape[0]\n",
    "# false positives\n",
    "fp = final_master2.loc[(final_master2['isear_label'] != \"sadness\") & (final_master2['dm_label'] == \"sadness\")].shape[0]\n",
    "# true negatives\n",
    "tn = final_master2.loc[(final_master2['isear_label'] != \"sadness\") & (final_master2['dm_label'] != \"sadness\")].shape[0]\n",
    "# false negatives\n",
    "fn = final_master2.loc[(final_master2['isear_label'] == \"sadness\") & (final_master2['dm_label'] != \"sadness\")].shape[0]"
   ]
  },
  {
   "cell_type": "code",
   "execution_count": 45,
   "metadata": {},
   "outputs": [
    {
     "data": {
      "text/plain": [
       "{'precision': 0.5051813471502591,\n",
       " 'recall': 0.17791970802919707,\n",
       " 'f1_score': 0.2631578947368421}"
      ]
     },
     "execution_count": 45,
     "metadata": {},
     "output_type": "execute_result"
    }
   ],
   "source": [
    "# precision, accuracy, recall \n",
    "def performance():\n",
    "    dm_pf_sad = {}\n",
    "    dm_pf_sad['precision'] = tp/(tp+fp)\n",
    "    dm_pf_sad['recall'] = tp/(tp+fn)\n",
    "    dm_pf_sad['f1_score'] = 2*(dm_pf_sad['precision']*dm_pf_sad['recall'])/(dm_pf_sad['precision']+dm_pf_sad['recall'])\n",
    "    return dm_pf_sad\n",
    "\n",
    "dm_pf_sad = performance()\n",
    "dm_pf_sad"
   ]
  },
  {
   "cell_type": "markdown",
   "metadata": {},
   "source": [
    "## angry"
   ]
  },
  {
   "cell_type": "code",
   "execution_count": 46,
   "metadata": {},
   "outputs": [],
   "source": [
    "# true positives\n",
    "tp = final_master2.loc[(final_master2['isear_label'] == \"anger\") & (final_master2['nrc_label'] == \"anger\")].shape[0]\n",
    "# false positives\n",
    "fp = final_master2.loc[(final_master2['isear_label'] != \"anger\") & (final_master2['nrc_label'] == \"anger\")].shape[0]\n",
    "# true negatives\n",
    "tn = final_master2.loc[(final_master2['isear_label'] != \"anger\") & (final_master2['nrc_label'] != \"anger\")].shape[0]\n",
    "# false negatives\n",
    "fn = final_master2.loc[(final_master2['isear_label'] == \"anger\") & (final_master2['nrc_label'] != \"anger\")].shape[0]"
   ]
  },
  {
   "cell_type": "code",
   "execution_count": 47,
   "metadata": {},
   "outputs": [
    {
     "data": {
      "text/plain": [
       "{'precision': 0.18701586130579123,\n",
       " 'recall': 0.4625912408759124,\n",
       " 'f1_score': 0.26635145784081954}"
      ]
     },
     "execution_count": 47,
     "metadata": {},
     "output_type": "execute_result"
    }
   ],
   "source": [
    "def performance():\n",
    "    nrc_pf_anger = {}\n",
    "    nrc_pf_anger['precision'] = tp/(tp+fp)\n",
    "    nrc_pf_anger['recall'] = tp/(tp+fn)\n",
    "    nrc_pf_anger['f1_score'] = 2*(nrc_pf_anger['precision']*nrc_pf_anger['recall'])/(nrc_pf_anger['precision']+nrc_pf_anger['recall'])\n",
    "    return nrc_pf_anger\n",
    "\n",
    "nrc_pf_anger = performance()\n",
    "nrc_pf_anger"
   ]
  },
  {
   "cell_type": "code",
   "execution_count": 48,
   "metadata": {},
   "outputs": [],
   "source": [
    "# true positives\n",
    "tp = final_master2.loc[(final_master2['isear_label'] == \"anger\") & (final_master2['dm_label'] == \"anger\")].shape[0]\n",
    "# false positives\n",
    "fp = final_master2.loc[(final_master2['isear_label'] != \"anger\") & (final_master2['dm_label'] == \"anger\")].shape[0]\n",
    "# true negatives\n",
    "tn = final_master2.loc[(final_master2['isear_label'] != \"anger\") & (final_master2['dm_label'] != \"anger\")].shape[0]\n",
    "# false negatives\n",
    "fn = final_master2.loc[(final_master2['isear_label'] == \"anger\") & (final_master2['dm_label'] != \"anger\")].shape[0]"
   ]
  },
  {
   "cell_type": "code",
   "execution_count": 49,
   "metadata": {},
   "outputs": [
    {
     "data": {
      "text/plain": [
       "{'precision': 0.18952234206471494,\n",
       " 'recall': 0.11222627737226278,\n",
       " 'f1_score': 0.14097421203438393}"
      ]
     },
     "execution_count": 49,
     "metadata": {},
     "output_type": "execute_result"
    }
   ],
   "source": [
    "def performance():\n",
    "    dm_pf_anger = {}\n",
    "    dm_pf_anger['precision'] = tp/(tp+fp)\n",
    "    dm_pf_anger['recall'] = tp/(tp+fn)\n",
    "    dm_pf_anger['f1_score'] = 2*(dm_pf_anger['precision']*dm_pf_anger['recall'])/(dm_pf_anger['precision']+dm_pf_anger['recall'])\n",
    "    return dm_pf_anger\n",
    "    \n",
    "dm_pf_anger = performance()\n",
    "dm_pf_anger"
   ]
  },
  {
   "cell_type": "markdown",
   "metadata": {},
   "source": [
    "## joy"
   ]
  },
  {
   "cell_type": "code",
   "execution_count": 50,
   "metadata": {},
   "outputs": [],
   "source": [
    "# true positives\n",
    "tp = final_master2.loc[(final_master2['isear_label'] == \"joy\") & (final_master2['nrc_label'] == \"joy\")].shape[0]\n",
    "# false positives\n",
    "fp = final_master2.loc[(final_master2['isear_label'] != \"joy\") & (final_master2['nrc_label'] == \"joy\")].shape[0]\n",
    "# true negatives\n",
    "tn = final_master2.loc[(final_master2['isear_label'] != \"joy\") & (final_master2['nrc_label'] != \"joy\")].shape[0]\n",
    "# false negatives\n",
    "fn = final_master2.loc[(final_master2['isear_label'] == \"joy\") & (final_master2['nrc_label'] != \"joy\")].shape[0]"
   ]
  },
  {
   "cell_type": "code",
   "execution_count": 51,
   "metadata": {},
   "outputs": [
    {
     "data": {
      "text/plain": [
       "{'precision': 0.28,\n",
       " 'recall': 0.20475319926873858,\n",
       " 'f1_score': 0.2365364308342133}"
      ]
     },
     "execution_count": 51,
     "metadata": {},
     "output_type": "execute_result"
    }
   ],
   "source": [
    "def performance():\n",
    "    nrc_pf_joy = {}\n",
    "    nrc_pf_joy['precision'] = tp/(tp+fp)\n",
    "    nrc_pf_joy['recall'] = tp/(tp+fn)\n",
    "    nrc_pf_joy['f1_score'] = 2*(nrc_pf_joy['precision']*nrc_pf_joy['recall'])/(nrc_pf_joy['precision']+nrc_pf_joy['recall'])\n",
    "    return nrc_pf_joy\n",
    "\n",
    "\n",
    "nrc_pf_joy = performance()\n",
    "nrc_pf_joy"
   ]
  }
 ],
 "metadata": {
  "kernelspec": {
   "display_name": "Python 3",
   "language": "python",
   "name": "python3"
  },
  "language_info": {
   "codemirror_mode": {
    "name": "ipython",
    "version": 3
   },
   "file_extension": ".py",
   "mimetype": "text/x-python",
   "name": "python",
   "nbconvert_exporter": "python",
   "pygments_lexer": "ipython3",
   "version": "3.8.3"
  }
 },
 "nbformat": 4,
 "nbformat_minor": 4
}
